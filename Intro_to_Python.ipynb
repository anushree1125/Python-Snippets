{
  "cells": [
    {
      "cell_type": "markdown",
      "metadata": {
        "id": "view-in-github",
        "colab_type": "text"
      },
      "source": [
        "<a href=\"https://colab.research.google.com/github/anushree1125/Python-Snippets/blob/main/Intro_to_Python.ipynb\" target=\"_parent\"><img src=\"https://colab.research.google.com/assets/colab-badge.svg\" alt=\"Open In Colab\"/></a>"
      ]
    },
    {
      "cell_type": "markdown",
      "metadata": {
        "id": "eUsh_Wx84leW"
      },
      "source": [
        "# Hello World"
      ]
    },
    {
      "cell_type": "markdown",
      "metadata": {
        "id": "XPzQGBZA4lek"
      },
      "source": [
        "They say no one is a programmer untill they output their first \"Hello world\""
      ]
    },
    {
      "cell_type": "markdown",
      "metadata": {
        "id": "j1o1ZtjThYQE"
      },
      "source": [
        "## Printing values\n",
        "\n",
        "Python uses the <tt>print</tt> statement. This command lets us print messages to the user, and also to see what Python thinks is the value of some expression (very useful when debugging your programs).\n",
        "\n",
        "We will go into details later on, but for now just note that to print some text you have to enclose it in  \"quotation marks\".\n"
      ]
    },
    {
      "cell_type": "code",
      "execution_count": null,
      "metadata": {
        "colab": {
          "base_uri": "https://localhost:8080/"
        },
        "id": "bsQQW5uchYQQ",
        "outputId": "5edf1cb6-8ab2-44e4-c625-7bcb6eccc926"
      },
      "outputs": [
        {
          "name": "stdout",
          "output_type": "stream",
          "text": [
            "Hello world!\n"
          ]
        }
      ],
      "source": [
        "print(\"Hello world!\")"
      ]
    },
    {
      "cell_type": "code",
      "execution_count": null,
      "metadata": {
        "id": "dlmNujFBhYQX",
        "outputId": "830ee3a9-a617-4920-b41d-9e7cae1532c7"
      },
      "outputs": [
        {
          "name": "stdout",
          "output_type": "stream",
          "text": [
            "Hello RAIN\n"
          ]
        }
      ],
      "source": [
        "print(\"Hello RAIN\")"
      ]
    },
    {
      "cell_type": "code",
      "execution_count": null,
      "metadata": {
        "id": "S4zONKi5hYQY",
        "outputId": "6ade224d-7179-4356-fdf9-70f7e3186c2e"
      },
      "outputs": [
        {
          "name": "stdout",
          "output_type": "stream",
          "text": [
            "34\n"
          ]
        }
      ],
      "source": [
        "print(34)"
      ]
    },
    {
      "cell_type": "code",
      "execution_count": null,
      "metadata": {
        "id": "bkLUv3uOhYQY",
        "outputId": "7fb7a3fc-ceaa-4e58-b379-7ea280bbd8a1"
      },
      "outputs": [
        {
          "name": "stdout",
          "output_type": "stream",
          "text": [
            "5\n"
          ]
        }
      ],
      "source": [
        "print(2 + 3)"
      ]
    },
    {
      "cell_type": "code",
      "execution_count": null,
      "metadata": {
        "id": "aw48I1pA4le3",
        "outputId": "4b662b47-e679-43c4-fe65-0350e722a1b5"
      },
      "outputs": [
        {
          "name": "stdout",
          "output_type": "stream",
          "text": [
            "3\n"
          ]
        }
      ],
      "source": [
        "print(7 -4)"
      ]
    },
    {
      "cell_type": "markdown",
      "metadata": {
        "id": "m7sobOV-hYQZ"
      },
      "source": [
        "You can print  multiple expressions you need to seperate them with commas. Python will insert a space between each element, and a newline at the end of the message (though you can suppress this behaviour by leaving a trailing comma at the end of the command)."
      ]
    },
    {
      "cell_type": "markdown",
      "metadata": {
        "id": "V5-tBzC6hYQa"
      },
      "source": [
        "## Using variables"
      ]
    },
    {
      "cell_type": "markdown",
      "metadata": {
        "id": "6Dv92OzmhYQb"
      },
      "source": [
        "In the <tt>print</tt> commands above we have directly operated on values such as text strings and numbers. When programming we will typically want to deal with rather more complex expressions where it is useful to be able to assign a name to an expression, especially if we are trying to deal with multiple values at the same time.\n",
        "\n",
        "We can give a name to a value using _variables_, the name is apt because the values stored in a variable can _vary_. Unlike some other languages, the type of value assigned to a variable can also change (this is one of the reasons why python is known as a _dynamic_ language).\n",
        "\n",
        "A variable can be assigned to a simple value..."
      ]
    },
    {
      "cell_type": "code",
      "execution_count": null,
      "metadata": {
        "id": "aqZQ8OJDhYQc",
        "outputId": "6b5b0676-2c81-406c-8e01-3fe42675378f"
      },
      "outputs": [
        {
          "name": "stdout",
          "output_type": "stream",
          "text": [
            "7\n"
          ]
        }
      ],
      "source": [
        "x = 7\n",
        "print(x)"
      ]
    },
    {
      "cell_type": "markdown",
      "metadata": {
        "id": "9gnSNiVvhYQe"
      },
      "source": [
        "... or the outcome of a more complex expression."
      ]
    },
    {
      "cell_type": "code",
      "execution_count": null,
      "metadata": {
        "id": "XG-CGQ7hhYQe",
        "outputId": "ef486f9e-7f39-4fbe-a09f-882361bce2ea"
      },
      "outputs": [
        {
          "name": "stdout",
          "output_type": "stream",
          "text": [
            "4\n"
          ]
        }
      ],
      "source": [
        "x = 2 + 2\n",
        "print(x)"
      ]
    },
    {
      "cell_type": "markdown",
      "metadata": {
        "id": "_D2BohJHhYQf"
      },
      "source": [
        "A variable can be called whatever you like (as long as it starts with a character, it does not contain space and is meaningful) and you assign a value to a variable with the **`=` operator**. Note that this is different to mathematical equality (which we will come to later...)\n",
        "\n",
        "You can <tt>print</tt> a variable to see what python thinks its current value is."
      ]
    },
    {
      "cell_type": "code",
      "execution_count": null,
      "metadata": {
        "id": "YAIBVhx8hYQg",
        "outputId": "a6c88066-fbdb-4885-add8-0115517ea9ed"
      },
      "outputs": [
        {
          "name": "stdout",
          "output_type": "stream",
          "text": [
            "Iron man is his name\n"
          ]
        }
      ],
      "source": [
        "name = \"Iron man\"\n",
        "print(name, \"is his name\")"
      ]
    },
    {
      "cell_type": "markdown",
      "metadata": {
        "id": "IdnGUo1uhYQg"
      },
      "source": [
        "In the interactive interpreter you don't have to <tt>print</tt> everything, if you type a variable name (or just a value), the interpreter will automatically print out what python thinks the value is. Note though that this is not the case if your code is in a file."
      ]
    },
    {
      "cell_type": "code",
      "execution_count": null,
      "metadata": {
        "id": "AoyfqvUwhYQh",
        "outputId": "1099a408-e322-4f57-e9e2-c7155765d0c3"
      },
      "outputs": [
        {
          "data": {
            "text/plain": [
              "7"
            ]
          },
          "execution_count": 55,
          "metadata": {},
          "output_type": "execute_result"
        }
      ],
      "source": [
        "3 + 4"
      ]
    },
    {
      "cell_type": "code",
      "execution_count": null,
      "metadata": {
        "id": "LqNe5YN2hYQj",
        "outputId": "89172506-04ba-4e62-a135-a77ff8a9a546"
      },
      "outputs": [
        {
          "data": {
            "text/plain": [
              "27"
            ]
          },
          "execution_count": 57,
          "metadata": {},
          "output_type": "execute_result"
        }
      ],
      "source": [
        "x = 9\n",
        "3 * x"
      ]
    },
    {
      "cell_type": "markdown",
      "metadata": {
        "id": "HWlWtgW9hYQr"
      },
      "source": [
        "## Simple data types"
      ]
    },
    {
      "cell_type": "markdown",
      "metadata": {
        "id": "JdHyAOnkhYQs"
      },
      "source": [
        "Python (and computers in general) treats different types of data differently. Python has 5 main basic data types. Types are useful to constrain some operations to a certain category of variables. For example it doesn't really make sense to try to divide a string.\n",
        "\n",
        "We will see some examples of these in use shortly, but for now let's see all of the basic types available in python.\n",
        "\n",
        "### Booleans\n",
        "\n",
        "Boolean values represent truth or falsehood, as used in logical operations, for example. Not surprisingly, there are only two values, and in Python they are called <tt>True</tt> and <tt>False</tt>."
      ]
    },
    {
      "cell_type": "code",
      "execution_count": null,
      "metadata": {
        "id": "6YupJkr2hYQs",
        "outputId": "ca16239d-3c76-4ee1-faee-a14cc8b5be58"
      },
      "outputs": [
        {
          "name": "stdout",
          "output_type": "stream",
          "text": [
            "True False\n",
            "False\n"
          ]
        }
      ],
      "source": [
        "a = True\n",
        "b = False\n",
        "print(a, b)\n",
        "\n",
        "x = 10 < 5\n",
        "print(x)"
      ]
    },
    {
      "cell_type": "markdown",
      "metadata": {
        "id": "kQVkC3vRhYQt"
      },
      "source": [
        "### Integers\n",
        "\n",
        "Integers represent whole numbers, as you would use when counting items, and can be positive or negative."
      ]
    },
    {
      "cell_type": "code",
      "execution_count": null,
      "metadata": {
        "id": "N0WA_j8uhYQt",
        "outputId": "e7cb90f8-1875-441e-cb9b-43d3c19e6340"
      },
      "outputs": [
        {
          "name": "stdout",
          "output_type": "stream",
          "text": [
            "-7 123\n"
          ]
        }
      ],
      "source": [
        "i = -7\n",
        "j = 123\n",
        "print(i, j)"
      ]
    },
    {
      "cell_type": "markdown",
      "metadata": {
        "id": "Y8pAW98ahYQu"
      },
      "source": [
        "### Floating point numbers\n",
        "\n",
        "Floating point numbers, often simply referred to as <tt>float</tt>s, are numbers expressed in the decimal system, i.e. 2.1, 999.998, -0.000004 etc. The value 2.0 would also be interpreted as a floating point number, but the value 2, without the decimal point will not; it will be interpreted as an integer."
      ]
    },
    {
      "cell_type": "code",
      "execution_count": null,
      "metadata": {
        "id": "BQ5KJFPEhYQu",
        "outputId": "4f8c4117-fad0-4eb9-ecad-942ed1c534be"
      },
      "outputs": [
        {
          "name": "stdout",
          "output_type": "stream",
          "text": [
            "-132.889257\n"
          ]
        }
      ],
      "source": [
        "x = 3.14159\n",
        "y = -42.3\n",
        "print(x * y)"
      ]
    },
    {
      "cell_type": "markdown",
      "metadata": {
        "id": "8VYj8uYbhYQv"
      },
      "source": [
        "Floating point numbers can also carry an <tt>e</tt> suffix that states which power of ten they operate at."
      ]
    },
    {
      "cell_type": "code",
      "execution_count": null,
      "metadata": {
        "id": "f-oE4Yx5hYQv",
        "outputId": "2bf18dfa-7efc-45d7-819e-04ada9458db0"
      },
      "outputs": [
        {
          "name": "stdout",
          "output_type": "stream",
          "text": [
            "1500.0\n",
            "0.03\n"
          ]
        }
      ],
      "source": [
        "k = 1.5e3\n",
        "l = 3e-2\n",
        "print(k)\n",
        "print(l)"
      ]
    },
    {
      "cell_type": "markdown",
      "metadata": {
        "id": "TZ8jD8L_hYQy"
      },
      "source": [
        "### Strings\n",
        "\n",
        "Strings represent text, i.e. \"strings\" of characters. They can be delimited by single quotes <tt>‘</tt> or double quotes <tt>“</tt>, but you have to use the same delimiter at both ends. Unlike some programming languages, such as Perl, there is no difference between the two types of quote, although using one type does allow the other type to appear inside the string as a regular character.\n",
        "\n",
        "Normally a python statement ends at the end of the line, but if you want to type a string over several lines you can enclose it in triple quotation marks."
      ]
    },
    {
      "cell_type": "code",
      "execution_count": null,
      "metadata": {
        "id": "KksqvYVLhYQ0",
        "outputId": "866358eb-ace5-4d31-c85e-1dfaed48cdd3"
      },
      "outputs": [
        {
          "name": "stdout",
          "output_type": "stream",
          "text": [
            "String with double quotes\n"
          ]
        }
      ],
      "source": [
        "s = \"String with double quotes\"\n",
        "t = 'String with single quotes'\n",
        "u = \"It's a string with apostrophes\"\n",
        "\"\"\"A string that extends\n",
        "over multiple lines\"\"\"\n",
        "print(s)"
      ]
    },
    {
      "cell_type": "markdown",
      "metadata": {
        "collapsed": true,
        "id": "fbC0FguL4lfL"
      },
      "source": [
        "# Conditionals\n"
      ]
    },
    {
      "cell_type": "markdown",
      "metadata": {
        "id": "ll3I7bqn4lfN"
      },
      "source": [
        "## Program control and logic"
      ]
    },
    {
      "cell_type": "markdown",
      "metadata": {
        "id": "s2DRCWFT4lfN"
      },
      "source": [
        "A program will normally run by executing the stated commands, one after the other in sequential order. Frequently however, you will need the program to deviate from this. There are several ways of diverting from the line-by-line paradigm:\n",
        "\n",
        "- With conditional statements. Here you can check if some statement or expression is true, and if it is then you continue on with the following block of code, otherwise you might skip it or execute a different bit of code.\n",
        "\n",
        "- By performing repetitive loops through the same block of code, where each time through the loop different values may be used for the variables.\n",
        "\n",
        "- Through the use of functions (subroutines) where the program’s execution jumps from a particular line of code to an entirely different spot, even in a different file or module, to do a task before (usually) jumping back again. Functions are covered in the next session, so we will not discuss them yet.\n",
        "\n",
        "- By checking if an error or exception occurs, i.e. something illegal has happened, and executing different blocks of code accordingly"
      ]
    },
    {
      "cell_type": "markdown",
      "metadata": {
        "id": "hbbRdNhl4lfO"
      },
      "source": [
        "## Code blocks"
      ]
    },
    {
      "cell_type": "markdown",
      "metadata": {
        "id": "f3BzgKOl4lfP"
      },
      "source": [
        "With all of the means by which Python code execution can jump about we naturally need to be aware of the boundaries of the block of code we jump into, so that it is clear at what point the job is done, and program execution can jump back again. In essence it is required that the end of a function, loop or conditional statement be defined, so that we know the bounds of their respective code blocks."
      ]
    },
    {
      "cell_type": "markdown",
      "metadata": {
        "id": "WsX0XaXF4lfP"
      },
      "source": [
        "Python uses indentation to show which statements are in a block of code, other languages use specific `begin` and `end` statements or curly braces `{}`. It doesn't matter how much indentation you use, but the whole block must be consistent, i.e., if the first statement is indented by four spaces, the rest of the block must be indented by the same amount. The Python style guide recommends using 4-space indentation. Use spaces, rather than tabs, since different editors display tab characters with different widths.\n",
        "\n",
        "The use of indentation to delineate code blocks is illustrated in an abstract manner in the following scheme:\n",
        "\n",
        "Statement 1:\n",
        "\n",
        "    Command A – in the block of statement 1\n",
        "    Command B – in the block of statement 1\n",
        "  \n",
        "    Statement 2:\n",
        "        Command C – in the block of statement 2\n",
        "        Command D – in the block of statement 2\n",
        "  \n",
        "    Command E – back in the block of statement 1\n",
        "\n",
        "Command F – outside all statement blocks\n"
      ]
    },
    {
      "cell_type": "markdown",
      "metadata": {
        "id": "qV0PuTAC4lfQ"
      },
      "source": [
        "## Conditional execution"
      ]
    },
    {
      "cell_type": "markdown",
      "metadata": {
        "id": "acdZg1364lfQ"
      },
      "source": [
        "### The <tt>if</tt> statement"
      ]
    },
    {
      "cell_type": "markdown",
      "metadata": {
        "id": "0t23qMsN4lfT"
      },
      "source": [
        "A conditional <tt>if</tt> statement is used to specify that some block of code should only be executed if some associated test is upheld; a conditional expression evaluates to <tt>True</tt>. This might also involve subsidiary checks using the <tt>elif</tt> statement to use an alternative block if the previous expression turns out to be False. There can even be a final <tt>else</tt> statement to do something if none of the checks are passed.\n",
        "\n",
        "The following uses statements that test whether a number is less than zero, greater than zero or otherwise equal to zero and will print out a different message in each case:"
      ]
    },
    {
      "cell_type": "code",
      "execution_count": null,
      "metadata": {
        "id": "DhTIqnQA4lfX",
        "outputId": "ab24abc6-cdb4-48e5-c0bf-e45204c926b5"
      },
      "outputs": [
        {
          "name": "stdout",
          "output_type": "stream",
          "text": [
            "Value is positive\n"
          ]
        }
      ],
      "source": [
        "x = 5\n",
        "\n",
        "if x > 0:\n",
        "    print(\"Value is positive\")\n",
        "\n",
        "elif x < 0:\n",
        "    print(\"Value is negative\")\n",
        "\n",
        "else:\n",
        "    print(\"Value is zero\")"
      ]
    },
    {
      "cell_type": "markdown",
      "metadata": {
        "id": "uIA3yBk64lfZ"
      },
      "source": [
        "The general form of writing out such combined conditional statements is as follows:"
      ]
    },
    {
      "cell_type": "markdown",
      "metadata": {
        "id": "sOG9ujhy4lfZ"
      },
      "source": [
        "<pre>\n",
        "if conditionalExpression1:\n",
        "    # codeBlock1\n",
        "\n",
        "elif conditionalExpression2:\n",
        "    # codeBlock2\n",
        "\n",
        "elif conditionalExpressionN:\n",
        "    # codeBlockN\n",
        "    +any number of additional elif statements, then finally:\n",
        "\n",
        "else:\n",
        "    # codeBlockE\n",
        "</pre>"
      ]
    },
    {
      "cell_type": "markdown",
      "metadata": {
        "id": "Lf0xpW8W4lfa"
      },
      "source": [
        "\n",
        "The <tt>elif</tt> block is optional, and we can use as many as we like. The <tt>else</tt> block is also optional, so will only have the <tt>if</tt> statement, which is a fairly common situation. It is often good practice to include <tt>else</tt> where possible though, so that you always catch cases that do not pass, otherwise values might go unnoticed, which might not be the desired behaviour."
      ]
    },
    {
      "cell_type": "markdown",
      "metadata": {
        "id": "C3owsk6F4lfa"
      },
      "source": [
        "Placeholders are needed for “empty” code blocks:"
      ]
    },
    {
      "cell_type": "code",
      "execution_count": null,
      "metadata": {
        "id": "eDd_iXro4lfb",
        "outputId": "5583ecfa-6c49-4439-a010-1b9be32e470f"
      },
      "outputs": [
        {
          "name": "stdout",
          "output_type": "stream",
          "text": [
            "luttapi has failed in the exam\n"
          ]
        }
      ],
      "source": [
        "name = \"luttapi\"\n",
        "mark = 30\n",
        "\n",
        "if mark < 45:\n",
        "    print(name, \"has failed in the exam\")\n",
        "\n",
        "elif geneExpression > 0:\n",
        "    print(name, \"has passed in the exam\")\n",
        "\n",
        "else:\n",
        "    pass"
      ]
    },
    {
      "cell_type": "markdown",
      "metadata": {
        "id": "dM2QSX4s4lfc"
      },
      "source": [
        "For very simple conditional checks, you can write the `if` statement on a single line as a single expression, and the result will be the expression before the `if` if the condition is true or the expression after the `else` otherwise.\n",
        "\n"
      ]
    },
    {
      "cell_type": "code",
      "execution_count": null,
      "metadata": {
        "id": "6vJOuPVw4lfc",
        "outputId": "914719ba-500b-4b4b-fdd7-2c1cf84d8d27"
      },
      "outputs": [
        {
          "name": "stdout",
          "output_type": "stream",
          "text": [
            "No\n"
          ]
        }
      ],
      "source": [
        "x = 15\n",
        "\n",
        "# if x < 10:\n",
        "#     s = \"Yes\"\n",
        "# else:\n",
        "#     s = \"No\"\n",
        "# print(s)\n",
        "\n",
        "# Could also be written onto one line\n",
        "s = \"Yes\" if x < 10 else \"No\"\n",
        "print(s)"
      ]
    },
    {
      "cell_type": "markdown",
      "metadata": {
        "id": "zvdHwkTu4lfd"
      },
      "source": [
        "### Comparisons and truth"
      ]
    },
    {
      "cell_type": "markdown",
      "metadata": {
        "id": "vEIvHyPd4lfd"
      },
      "source": [
        "With conditional execution the question naturally arises as to which expressions are deemed to be true and which false. For the python boolean values <tt>True</tt> and <tt>False</tt> the answer is (hopefully) obvious. Also, the logical states of truth and falsehood that result from conditional checks like “Is x greater than 5?” or “Is y in this list?” are also clear. When comparing values Python has the standard comparison (or relational) operators, some of which we have already seen:\n",
        "\n",
        "|Operator |\tDescription |\tExample |\n",
        "|---------|-------------|-----------|\n",
        "|`==`  |\t    equality |\t1 == 2 # False |\n",
        "|`!=`  |\t    non equality |\t1 != 2 # True |\n",
        "| `<`  |\t    less than |\t1 < 2 # True |\n",
        "| `<=` |\t    equal or less than |\t2 <= 2 # True |\n",
        "| `>`  |\t    greater then |\t1 > 2 # False |\n",
        "| `>=` |\t    equal or greater than |\t1 >= 1 # True |\n",
        "\n",
        "It is notable that comparison operations can be combined, for example to check if a value is within a range."
      ]
    },
    {
      "cell_type": "code",
      "execution_count": null,
      "metadata": {
        "id": "wilmKXer4lfe",
        "outputId": "76eec26c-666c-4988-a5bd-76361f8e0936"
      },
      "outputs": [
        {
          "data": {
            "text/plain": [
              "True"
            ]
          },
          "execution_count": 74,
          "metadata": {},
          "output_type": "execute_result"
        }
      ],
      "source": [
        "4 != 5"
      ]
    },
    {
      "cell_type": "code",
      "execution_count": null,
      "metadata": {
        "id": "mSCInJ9a4lfg",
        "outputId": "cc3fc380-9580-4201-e7b4-047a89fc043e"
      },
      "outputs": [
        {
          "name": "stdout",
          "output_type": "stream",
          "text": [
            "Not in range\n"
          ]
        }
      ],
      "source": [
        "x = 50\n",
        "\n",
        "#if x > 0 and x < 10:\n",
        "if 0 < x < 10: #is also possible\n",
        "    print(\"In range A\")\n",
        "else:\n",
        "    print(\"Not in range\")\n",
        "\n",
        "#elif x < 0 or x > 10:\n",
        "#    print(\"In range B\")"
      ]
    },
    {
      "cell_type": "markdown",
      "metadata": {
        "id": "YCwHAPxV4lfh"
      },
      "source": [
        "Python has two additional comparison operators <tt>is</tt> and <tt>is not</tt>. These compare whether two objects are the same object, whereas <tt>==</tt> and <tt>!=</tt> compare whether values are the same.\n",
        "\n",
        "As an example in Python:"
      ]
    },
    {
      "cell_type": "markdown",
      "metadata": {
        "id": "2TzYgYp94lfi"
      },
      "source": [
        "## Loops"
      ]
    },
    {
      "cell_type": "markdown",
      "metadata": {
        "id": "jMnZQ2kV4lfj"
      },
      "source": [
        "When an operation needs to be repeated multiple times, for example on all of the items in a list, we\n",
        "avoid having to type (or copy and paste) repetitive code by creating a loop. There are two ways of creating loops in Python, the <tt>for</tt> loop and the <tt>while</tt> loop."
      ]
    },
    {
      "cell_type": "markdown",
      "metadata": {
        "id": "XR-8RK-l4lfj"
      },
      "source": [
        "## The <tt>for</tt> loop"
      ]
    },
    {
      "cell_type": "markdown",
      "metadata": {
        "id": "eYbFIXxk4lfn"
      },
      "source": [
        "The for loop in Python iterates over each item in a sequence (such as a list or tuple) in the order that they appear in the sequence. What this means is that a variable (<tt>code</tt> in the below example) is set to each item from the sequence of values in turn, and each time this happens the indented block of code is executed again."
      ]
    },
    {
      "cell_type": "code",
      "execution_count": null,
      "metadata": {
        "id": "o0DZnHst4lfo",
        "outputId": "bf2e34ef-34b0-4d0e-c5e0-a91862d6ea00"
      },
      "outputs": [
        {
          "name": "stdout",
          "output_type": "stream",
          "text": [
            "1\n",
            "2\n",
            "3\n",
            "4\n",
            "5\n",
            "6\n",
            "7\n",
            "8\n",
            "9\n",
            "10\n"
          ]
        }
      ],
      "source": [
        "numbers = [1, 2, 3, 4, 5, 6, 7, 8, 9, 10]\n",
        "\n",
        "for x in numbers:\n",
        "    print(x)\n",
        "    #print(number, end = '-')"
      ]
    },
    {
      "cell_type": "markdown",
      "metadata": {
        "id": "pNiun-mQ4lfp"
      },
      "source": [
        "A <tt>for</tt> loop can iterate over the individual characters in a string:"
      ]
    },
    {
      "cell_type": "code",
      "execution_count": null,
      "metadata": {
        "id": "vV1uMBxg4lfp",
        "outputId": "59ddc09f-f990-49f9-acfe-ccfacd219dec"
      },
      "outputs": [
        {
          "name": "stdout",
          "output_type": "stream",
          "text": [
            "K\n",
            "o\n",
            "c\n",
            "h\n",
            "i\n"
          ]
        }
      ],
      "source": [
        "name = 'Kochi'\n",
        "\n",
        "for character in name:\n",
        "    print(character)"
      ]
    },
    {
      "cell_type": "markdown",
      "metadata": {
        "id": "NV7cpNJp4lfq"
      },
      "source": [
        "And also over the keys of a dictionary:"
      ]
    },
    {
      "cell_type": "code",
      "execution_count": null,
      "metadata": {
        "id": "1CuRyc7M4lfq",
        "outputId": "9248a1ab-aab6-4015-ddc6-f4c906b69108"
      },
      "outputs": [
        {
          "name": "stdout",
          "output_type": "stream",
          "text": [
            "A Cricket\n",
            "B Football\n",
            "C Hockey\n",
            "D Badminton\n",
            "E Kabaddi\n"
          ]
        }
      ],
      "source": [
        "sports = {\"A\": \"Cricket\", \"B\": \"Football\", \"C\": \"Hockey\", \"D\": \"Badminton\", \"E\": \"Kabaddi\"}\n",
        "\n",
        "for x in sports:\n",
        "    print(x, sports[x])"
      ]
    },
    {
      "cell_type": "markdown",
      "metadata": {
        "id": "YIpCHa874lfs"
      },
      "source": [
        "Any variables that are defined before the loop can be accessed from inside the loop. So for example to calculate the summation of the items in a list of values we could define the total initially to be zero and add each value to the total in the loop:"
      ]
    },
    {
      "cell_type": "code",
      "execution_count": null,
      "metadata": {
        "id": "EBmGKzn64lfs",
        "outputId": "f86b0782-ca3f-490f-8507-0c5969ccc300"
      },
      "outputs": [
        {
          "name": "stdout",
          "output_type": "stream",
          "text": [
            "1\n",
            "3\n",
            "7\n",
            "15\n",
            "31\n"
          ]
        }
      ],
      "source": [
        "total = 0\n",
        "values = [1, 2, 4, 8, 16]\n",
        "\n",
        "for v in values:\n",
        "    #total = total + v\n",
        "    total += v\n",
        "    print(total)\n",
        "\n",
        "#print(total)"
      ]
    },
    {
      "cell_type": "code",
      "execution_count": null,
      "metadata": {
        "id": "Em0xWfDKhYQa",
        "outputId": "f253d89b-2599-4f79-c33f-535c4b15839a"
      },
      "outputs": [
        {
          "name": "stdout",
          "output_type": "stream",
          "text": [
            "The answer: 10\n"
          ]
        }
      ],
      "source": [
        "print(\"The answer:\", 10)"
      ]
    },
    {
      "cell_type": "markdown",
      "metadata": {
        "id": "FKWmxXoP4lfu"
      },
      "source": [
        "## The <tt>while</tt> loop"
      ]
    },
    {
      "cell_type": "markdown",
      "metadata": {
        "id": "5PhvwC5z4lfv"
      },
      "source": [
        "In addition to the <tt>for</tt> loop that operates on a collection of items, there is a <tt>while</tt> loop that simply repeats while some statement evaluates to True and stops when it is False. Note that if the tested expression never evaluates to False then you have an “infinite loop”, which is not good.\n",
        "\n",
        "In this example we generate a series of numbers by doubling a value after each iteration, until a limit is reached:"
      ]
    },
    {
      "cell_type": "code",
      "execution_count": null,
      "metadata": {
        "id": "_EX5JEj14lfw",
        "outputId": "8198f3bd-c7ef-44d0-8b4b-dea79800a5c4"
      },
      "outputs": [
        {
          "name": "stdout",
          "output_type": "stream",
          "text": [
            "1.0\n",
            "2.0\n",
            "4.0\n",
            "8.0\n",
            "final value: 8.0\n"
          ]
        }
      ],
      "source": [
        "value = 0.5\n",
        "while value < 8:\n",
        "    value = value * 2\n",
        "    print(value)\n",
        "\n",
        "print(\"final value:\", value)"
      ]
    },
    {
      "cell_type": "markdown",
      "metadata": {
        "id": "H_wrS_g04lfw"
      },
      "source": [
        "Whats going on here is that the value is doubled in each iteration and once it gets to 8 the while test fails (8 is not less than 8) and that last value is preserved. Note that if the test were instead value `<= 8` then we would get one more doubling and the value would reach 16."
      ]
    },
    {
      "cell_type": "markdown",
      "metadata": {
        "id": "34WmoJF44lfx"
      },
      "source": [
        "## Skipping and breaking loops"
      ]
    },
    {
      "cell_type": "markdown",
      "metadata": {
        "id": "4zNfx9A04lfx"
      },
      "source": [
        "Python has two ways of affecting the flow of the <tt>for</tt> or <tt>while</tt> loop inside the block. The <tt>continue</tt> statement means that the rest of the code in the block is skipped for this particular item in the collection, i.e. jump to the next iteration. In this example negative numbers are left out of a summation:"
      ]
    },
    {
      "cell_type": "code",
      "execution_count": null,
      "metadata": {
        "id": "Wb1M0yvf4lfz",
        "outputId": "5f52a9ff-11ae-450d-b285-16b8d4430ed4"
      },
      "outputs": [
        {
          "name": "stdout",
          "output_type": "stream",
          "text": [
            "20\n"
          ]
        }
      ],
      "source": [
        "#Sum of positive integers in a list\n",
        "values = [10, -5, 3, -1, 7]\n",
        "\n",
        "total = 0\n",
        "for v in values:\n",
        "    if v < 0:\n",
        "        continue # Skip this iteration\n",
        "    total += v\n",
        "\n",
        "print(total)"
      ]
    },
    {
      "cell_type": "markdown",
      "metadata": {
        "id": "CL9hqFmh4lf1"
      },
      "source": [
        "The other way of affecting a loop is with the <tt>break</tt> statement. In contrast to the <tt>continue</tt> statement, this immediately causes all looping to finish, and execution is resumed at the next statement _after_ the loop."
      ]
    },
    {
      "cell_type": "markdown",
      "metadata": {
        "id": "-B08CBWZ4lf2"
      },
      "source": [
        "# Functions\n"
      ]
    },
    {
      "cell_type": "markdown",
      "metadata": {
        "id": "xfrc0a8d4lf2"
      },
      "source": [
        "## Function basics"
      ]
    },
    {
      "cell_type": "markdown",
      "metadata": {
        "id": "Oj3o84_p4lf2"
      },
      "source": [
        "We have already seen a number of functions built into python that let us do useful things to strings, collections and numbers etc. For example `print()` or `len()` which is passed some kind of sequence object and returns the length of the sequence.\n",
        "\n",
        "This is the general form of a function; it takes some input _arguments_ and returns some output based on the supplied arguments.\n",
        "\n",
        "The arguments to a function, if any, are supplied in parentheses and the result of the function _call_ is the result of evaluating the function.\n"
      ]
    },
    {
      "cell_type": "code",
      "execution_count": null,
      "metadata": {
        "id": "P_H5m3Wc4lf3"
      },
      "outputs": [],
      "source": [
        "def sayHello():\n",
        "    print('Hello world!')"
      ]
    },
    {
      "cell_type": "code",
      "execution_count": null,
      "metadata": {
        "id": "GZHIejuI4lf3",
        "outputId": "f56dd526-1580-474f-f374-3d95e7d7cc52"
      },
      "outputs": [
        {
          "name": "stdout",
          "output_type": "stream",
          "text": [
            "Hello world!\n"
          ]
        }
      ],
      "source": [
        "sayHello()"
      ]
    },
    {
      "cell_type": "markdown",
      "metadata": {
        "id": "eyqW3lUh4lf4"
      },
      "source": [
        "## Function definition syntax"
      ]
    },
    {
      "cell_type": "markdown",
      "metadata": {
        "id": "N-QGNjE24lf7"
      },
      "source": [
        "Functions are defined in Python using the `def` keyword followed by the name of the function. If your function takes some arguments (input data) then you can name these in parentheses after the function name. If your function does not take any arguments you still need some empty parentheses. Here we define a simple function named `sayHello` that prints a line of text to the screen:"
      ]
    },
    {
      "cell_type": "code",
      "execution_count": null,
      "metadata": {
        "id": "R2Q_vtzr4lf8"
      },
      "outputs": [],
      "source": [
        "def square(x):\n",
        "  y = x*x\n",
        "  return y"
      ]
    },
    {
      "cell_type": "code",
      "execution_count": null,
      "metadata": {
        "id": "o5jPMIQq4lf9",
        "outputId": "b1cdc9d8-89bc-4faf-ef0d-50542e5ac8a0"
      },
      "outputs": [
        {
          "data": {
            "text/plain": [
              "16"
            ]
          },
          "execution_count": 92,
          "metadata": {},
          "output_type": "execute_result"
        }
      ],
      "source": [
        "square(4)"
      ]
    },
    {
      "cell_type": "markdown",
      "metadata": {
        "id": "c20lY9kp4lf-"
      },
      "source": [
        "Once the `return` statement is reached the operation of the function will end, and anything on the return line will be passed back as output. Here we call the function on an input number and catch the output value as result. Notice how the names of the variables used inside the function definition are separate from any variable names we may choose to use when calling the function.\n",
        "  "
      ]
    },
    {
      "cell_type": "code",
      "execution_count": null,
      "metadata": {
        "id": "G47RPGtY4lf-",
        "outputId": "ada55b45-3cfc-4d12-9638-9e6e55da6a60"
      },
      "outputs": [
        {
          "name": "stdout",
          "output_type": "stream",
          "text": [
            "81\n"
          ]
        }
      ],
      "source": [
        "number = 9\n",
        "result = square(number) # Call the square() function which returns a result\n",
        "print(result)           # Prints: 49"
      ]
    },
    {
      "cell_type": "markdown",
      "metadata": {
        "id": "SxyWmPe_4lf_"
      },
      "source": [
        "The function `square` can be used from now on anywhere in your program as many times as required on any (numeric) input values we like."
      ]
    },
    {
      "cell_type": "code",
      "execution_count": null,
      "metadata": {
        "id": "d-zOTW8i4lf_",
        "outputId": "899368b2-03cd-479b-c0ae-1ab801b7d2a2"
      },
      "outputs": [
        {
          "data": {
            "text/plain": [
              "1.4399999999999998e-06"
            ]
          },
          "execution_count": 96,
          "metadata": {},
          "output_type": "execute_result"
        }
      ],
      "source": [
        "0.0012 * 0.0012"
      ]
    },
    {
      "cell_type": "code",
      "execution_count": null,
      "metadata": {
        "id": "Z_NFP1bK4lf_",
        "outputId": "06952518-3221-4259-dca2-ab4da1811dad"
      },
      "outputs": [
        {
          "name": "stdout",
          "output_type": "stream",
          "text": [
            "1.4399999999999998e-06\n"
          ]
        }
      ],
      "source": [
        "print(square(1.2e-3))   # Prints: 1.4399999999999998e-06"
      ]
    },
    {
      "cell_type": "markdown",
      "metadata": {
        "id": "EIn3Ki5K4lgA"
      },
      "source": [
        "A function can accept multiple input values, otherwise known as arguments. These are separated by commas inside the brackets of the function definition. Here we define a function that takes two arguments and performs a calculation on both, before sending back the result.\n"
      ]
    },
    {
      "cell_type": "code",
      "execution_count": null,
      "metadata": {
        "id": "nYiQy8J54lgD",
        "outputId": "72c62f5e-07ee-4b4f-dba8-7c9b3b501255"
      },
      "outputs": [
        {
          "name": "stdout",
          "output_type": "stream",
          "text": [
            "5.999396\n"
          ]
        }
      ],
      "source": [
        "def calcFunc(x, y):\n",
        "  z = x*x + y*y\n",
        "  return z\n",
        "\n",
        "\n",
        "result = calcFunc(1.414, 2.0)\n",
        "print(result)  #  5.999396"
      ]
    },
    {
      "cell_type": "code",
      "execution_count": null,
      "metadata": {
        "id": "4j7t7QeE4lgF"
      },
      "outputs": [],
      "source": [
        "z = 1.414*1.414 + 2*2"
      ]
    },
    {
      "cell_type": "code",
      "execution_count": null,
      "metadata": {
        "id": "7JOKH1S94lgG",
        "outputId": "713425ad-55a4-4fd5-9a99-82c6fd965840"
      },
      "outputs": [
        {
          "data": {
            "text/plain": [
              "5.999396"
            ]
          },
          "execution_count": 100,
          "metadata": {},
          "output_type": "execute_result"
        }
      ],
      "source": [
        "z"
      ]
    },
    {
      "cell_type": "markdown",
      "metadata": {
        "id": "Rgox-28U4lgH"
      },
      "source": [
        "Note that this function does not check that x and y are valid forms of input. For the function to work properly we assume they are numbers. Depending on how this function is going to be used, appropriate checks could be added."
      ]
    }
  ],
  "metadata": {
    "kernelspec": {
      "display_name": "Python 3",
      "language": "python",
      "name": "python3"
    },
    "language_info": {
      "codemirror_mode": {
        "name": "ipython",
        "version": 3
      },
      "file_extension": ".py",
      "mimetype": "text/x-python",
      "name": "python",
      "nbconvert_exporter": "python",
      "pygments_lexer": "ipython3",
      "version": "3.8.3"
    },
    "colab": {
      "provenance": [],
      "include_colab_link": true
    }
  },
  "nbformat": 4,
  "nbformat_minor": 0
}